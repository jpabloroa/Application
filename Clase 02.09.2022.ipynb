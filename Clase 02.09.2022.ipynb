{
  "nbformat": 4,
  "nbformat_minor": 0,
  "metadata": {
    "colab": {
      "provenance": [],
      "authorship_tag": "ABX9TyMj5M4KnKicAGOjg2d5GLzE",
      "include_colab_link": true
    },
    "kernelspec": {
      "name": "python3",
      "display_name": "Python 3"
    },
    "language_info": {
      "name": "python"
    }
  },
  "cells": [
    {
      "cell_type": "markdown",
      "metadata": {
        "id": "view-in-github",
        "colab_type": "text"
      },
      "source": [
        "<a href=\"https://colab.research.google.com/github/jpabloroa/Application/blob/master/Clase%2002.09.2022.ipynb\" target=\"_parent\"><img src=\"https://colab.research.google.com/assets/colab-badge.svg\" alt=\"Open In Colab\"/></a>"
      ]
    },
    {
      "cell_type": "code",
      "execution_count": 26,
      "metadata": {
        "id": "r3Z9bG705yM9"
      },
      "outputs": [],
      "source": [
        "import numpy as np\n",
        "import pandas as pd\n",
        "import matplotlib.pyplot as plt\n",
        "plt.style.use('classic')\n",
        "%matplotlib inline"
      ]
    },
    {
      "cell_type": "code",
      "source": [
        "df = pd.read_csv('https://raw.githubusercontent.com/letsgoexploring/economic-data/master/cross-country-production/csv/cross_country_production.csv', index_col=0)"
      ],
      "metadata": {
        "id": "lHo4XARX6GGc"
      },
      "execution_count": 3,
      "outputs": []
    },
    {
      "cell_type": "code",
      "source": [
        "df.head()"
      ],
      "metadata": {
        "colab": {
          "base_uri": "https://localhost:8080/",
          "height": 237
        },
        "id": "3FZwo_dn7x3x",
        "outputId": "7f8624ce-57f0-44ae-af09-0f8c6eb86ffe"
      },
      "execution_count": 5,
      "outputs": [
        {
          "output_type": "execute_result",
          "data": {
            "text/plain": [
              "                country            gdp      labor  human_capital  \\\n",
              "country_code                                                       \n",
              "ALB             Albania   36103.042969   1.075898       2.964992   \n",
              "DZA             Algeria  507487.562500  11.273454       2.383965   \n",
              "AGO              Angola  227855.718750  16.644962       1.481984   \n",
              "ARG           Argentina  977420.562500  20.643215       3.096804   \n",
              "ARM             Armenia   43582.574219   0.966091       3.135995   \n",
              "\n",
              "              physical_capital  \n",
              "country_code                    \n",
              "ALB               2.298183e+05  \n",
              "DZA               2.487456e+06  \n",
              "AGO               1.371321e+06  \n",
              "ARG               3.374819e+06  \n",
              "ARM               9.894588e+04  "
            ],
            "text/html": [
              "\n",
              "  <div id=\"df-9652e8fe-3e73-4525-a01b-83ff2546640c\">\n",
              "    <div class=\"colab-df-container\">\n",
              "      <div>\n",
              "<style scoped>\n",
              "    .dataframe tbody tr th:only-of-type {\n",
              "        vertical-align: middle;\n",
              "    }\n",
              "\n",
              "    .dataframe tbody tr th {\n",
              "        vertical-align: top;\n",
              "    }\n",
              "\n",
              "    .dataframe thead th {\n",
              "        text-align: right;\n",
              "    }\n",
              "</style>\n",
              "<table border=\"1\" class=\"dataframe\">\n",
              "  <thead>\n",
              "    <tr style=\"text-align: right;\">\n",
              "      <th></th>\n",
              "      <th>country</th>\n",
              "      <th>gdp</th>\n",
              "      <th>labor</th>\n",
              "      <th>human_capital</th>\n",
              "      <th>physical_capital</th>\n",
              "    </tr>\n",
              "    <tr>\n",
              "      <th>country_code</th>\n",
              "      <th></th>\n",
              "      <th></th>\n",
              "      <th></th>\n",
              "      <th></th>\n",
              "      <th></th>\n",
              "    </tr>\n",
              "  </thead>\n",
              "  <tbody>\n",
              "    <tr>\n",
              "      <th>ALB</th>\n",
              "      <td>Albania</td>\n",
              "      <td>36103.042969</td>\n",
              "      <td>1.075898</td>\n",
              "      <td>2.964992</td>\n",
              "      <td>2.298183e+05</td>\n",
              "    </tr>\n",
              "    <tr>\n",
              "      <th>DZA</th>\n",
              "      <td>Algeria</td>\n",
              "      <td>507487.562500</td>\n",
              "      <td>11.273454</td>\n",
              "      <td>2.383965</td>\n",
              "      <td>2.487456e+06</td>\n",
              "    </tr>\n",
              "    <tr>\n",
              "      <th>AGO</th>\n",
              "      <td>Angola</td>\n",
              "      <td>227855.718750</td>\n",
              "      <td>16.644962</td>\n",
              "      <td>1.481984</td>\n",
              "      <td>1.371321e+06</td>\n",
              "    </tr>\n",
              "    <tr>\n",
              "      <th>ARG</th>\n",
              "      <td>Argentina</td>\n",
              "      <td>977420.562500</td>\n",
              "      <td>20.643215</td>\n",
              "      <td>3.096804</td>\n",
              "      <td>3.374819e+06</td>\n",
              "    </tr>\n",
              "    <tr>\n",
              "      <th>ARM</th>\n",
              "      <td>Armenia</td>\n",
              "      <td>43582.574219</td>\n",
              "      <td>0.966091</td>\n",
              "      <td>3.135995</td>\n",
              "      <td>9.894588e+04</td>\n",
              "    </tr>\n",
              "  </tbody>\n",
              "</table>\n",
              "</div>\n",
              "      <button class=\"colab-df-convert\" onclick=\"convertToInteractive('df-9652e8fe-3e73-4525-a01b-83ff2546640c')\"\n",
              "              title=\"Convert this dataframe to an interactive table.\"\n",
              "              style=\"display:none;\">\n",
              "        \n",
              "  <svg xmlns=\"http://www.w3.org/2000/svg\" height=\"24px\"viewBox=\"0 0 24 24\"\n",
              "       width=\"24px\">\n",
              "    <path d=\"M0 0h24v24H0V0z\" fill=\"none\"/>\n",
              "    <path d=\"M18.56 5.44l.94 2.06.94-2.06 2.06-.94-2.06-.94-.94-2.06-.94 2.06-2.06.94zm-11 1L8.5 8.5l.94-2.06 2.06-.94-2.06-.94L8.5 2.5l-.94 2.06-2.06.94zm10 10l.94 2.06.94-2.06 2.06-.94-2.06-.94-.94-2.06-.94 2.06-2.06.94z\"/><path d=\"M17.41 7.96l-1.37-1.37c-.4-.4-.92-.59-1.43-.59-.52 0-1.04.2-1.43.59L10.3 9.45l-7.72 7.72c-.78.78-.78 2.05 0 2.83L4 21.41c.39.39.9.59 1.41.59.51 0 1.02-.2 1.41-.59l7.78-7.78 2.81-2.81c.8-.78.8-2.07 0-2.86zM5.41 20L4 18.59l7.72-7.72 1.47 1.35L5.41 20z\"/>\n",
              "  </svg>\n",
              "      </button>\n",
              "      \n",
              "  <style>\n",
              "    .colab-df-container {\n",
              "      display:flex;\n",
              "      flex-wrap:wrap;\n",
              "      gap: 12px;\n",
              "    }\n",
              "\n",
              "    .colab-df-convert {\n",
              "      background-color: #E8F0FE;\n",
              "      border: none;\n",
              "      border-radius: 50%;\n",
              "      cursor: pointer;\n",
              "      display: none;\n",
              "      fill: #1967D2;\n",
              "      height: 32px;\n",
              "      padding: 0 0 0 0;\n",
              "      width: 32px;\n",
              "    }\n",
              "\n",
              "    .colab-df-convert:hover {\n",
              "      background-color: #E2EBFA;\n",
              "      box-shadow: 0px 1px 2px rgba(60, 64, 67, 0.3), 0px 1px 3px 1px rgba(60, 64, 67, 0.15);\n",
              "      fill: #174EA6;\n",
              "    }\n",
              "\n",
              "    [theme=dark] .colab-df-convert {\n",
              "      background-color: #3B4455;\n",
              "      fill: #D2E3FC;\n",
              "    }\n",
              "\n",
              "    [theme=dark] .colab-df-convert:hover {\n",
              "      background-color: #434B5C;\n",
              "      box-shadow: 0px 1px 3px 1px rgba(0, 0, 0, 0.15);\n",
              "      filter: drop-shadow(0px 1px 2px rgba(0, 0, 0, 0.3));\n",
              "      fill: #FFFFFF;\n",
              "    }\n",
              "  </style>\n",
              "\n",
              "      <script>\n",
              "        const buttonEl =\n",
              "          document.querySelector('#df-9652e8fe-3e73-4525-a01b-83ff2546640c button.colab-df-convert');\n",
              "        buttonEl.style.display =\n",
              "          google.colab.kernel.accessAllowed ? 'block' : 'none';\n",
              "\n",
              "        async function convertToInteractive(key) {\n",
              "          const element = document.querySelector('#df-9652e8fe-3e73-4525-a01b-83ff2546640c');\n",
              "          const dataTable =\n",
              "            await google.colab.kernel.invokeFunction('convertToInteractive',\n",
              "                                                     [key], {});\n",
              "          if (!dataTable) return;\n",
              "\n",
              "          const docLinkHtml = 'Like what you see? Visit the ' +\n",
              "            '<a target=\"_blank\" href=https://colab.research.google.com/notebooks/data_table.ipynb>data table notebook</a>'\n",
              "            + ' to learn more about interactive tables.';\n",
              "          element.innerHTML = '';\n",
              "          dataTable['output_type'] = 'display_data';\n",
              "          await google.colab.output.renderOutput(dataTable, element);\n",
              "          const docLink = document.createElement('div');\n",
              "          docLink.innerHTML = docLinkHtml;\n",
              "          element.appendChild(docLink);\n",
              "        }\n",
              "      </script>\n",
              "    </div>\n",
              "  </div>\n",
              "  "
            ]
          },
          "metadata": {},
          "execution_count": 5
        }
      ]
    },
    {
      "cell_type": "code",
      "source": [
        "metadata = pd.read_csv('https://raw.githubusercontent.com/letsgoexploring/economic-data/master/cross-country-production/csv/pwt_metadata.csv',index_col=0)['Values']\n",
        "base_year = int(metadata['base_year'])\n",
        "print('Base year for real GDP is:',base_year)"
      ],
      "metadata": {
        "colab": {
          "base_uri": "https://localhost:8080/"
        },
        "id": "KXUETfWX72WR",
        "outputId": "71c254ae-df51-4a8a-aeb0-947c0327445d"
      },
      "execution_count": 16,
      "outputs": [
        {
          "output_type": "stream",
          "name": "stdout",
          "text": [
            "Base year for real GDP is: 2017\n"
          ]
        }
      ]
    },
    {
      "cell_type": "code",
      "source": [
        "df['gdp_pw'] = df['gdp'] / df['labor']/1000\n",
        "\n",
        "df ['physical_capital_pw'] = df['physical_capital'] / df['labor'] / 1000\n",
        "\n",
        "alpha = 1/3\n",
        "\n",
        "df['tfp'] = df['gdp'] / df['physical_capital']**alpha/(df['labor']*df['human_capital'])**(1-alpha)\n",
        "\n",
        "df = df.sort_values('gdp_pw')"
      ],
      "metadata": {
        "id": "xUA6Wzmy-bWa"
      },
      "execution_count": 21,
      "outputs": []
    },
    {
      "cell_type": "code",
      "source": [
        "fig = plt.figure()\n",
        "ax = fig.add_subplot(1, 1, 1)\n",
        "ax.scatter(df['human_capital'],df['gdp_pw'], s=75, alpha=0.25, label='All countries')\n",
        "ax.scatter(df['human_capital'].loc['USA'],df['gdp_pw'].loc['USA'],marker='s',c='r', s=75, alpha=0.5, label = 'USA')\n",
        "ax.scatter(df['human_capital'].loc['COL'],df['gdp_pw'].loc['COL'],marker='x',c='black', s=75, alpha=0.75, label = 'COL')\n",
        "ax.legend(scatterpoints = 1, loc='upper left')\n",
        "ax.set_xlim([1, ax.get_xlim()[-1]])\n",
        "ax.set_ylim([-10, ax.get_ylim()[-1]])\n",
        "ax.set_xlabel('Human capital per worker\\n(Index)')\n",
        "ax.set_ylabel('Real GDP per worker\\n(Thousands of '+str(base_year)+' $)')\n",
        "ax.grid()"
      ],
      "metadata": {
        "colab": {
          "base_uri": "https://localhost:8080/",
          "height": 300
        },
        "id": "WhrfI2zsAYXJ",
        "outputId": "f5b088c0-b575-451b-daf5-9a10d4b53879"
      },
      "execution_count": 43,
      "outputs": [
        {
          "output_type": "display_data",
          "data": {
            "text/plain": [
              "<Figure size 432x288 with 1 Axes>"
            ],
            "image/png": "[encoded data removed]"
          },
          "metadata": {
            "needs_background": "light"
          }
        }
      ]
    }
  ]
}